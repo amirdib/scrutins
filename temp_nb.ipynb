{
 "cells": [
  {
   "cell_type": "code",
   "execution_count": 1,
   "metadata": {
    "collapsed": true
   },
   "outputs": [],
   "source": [
    "from __future__ import unicode_literals\n",
    "\n",
    "import pandas as pd\n",
    "import json\n",
    "from json import encoder\n",
    "\n",
    "encoder.FLOAT_REPR = lambda o: format(o, '.2f')"
   ]
  },
  {
   "cell_type": "code",
   "execution_count": 2,
   "metadata": {
    "collapsed": true
   },
   "outputs": [],
   "source": [
    "def calculer_totaux(df):\n",
    "    stats_index = ['departement', 'commune_code', 'tour']\n",
    "    choix_index = stats_index + ['choix']\n",
    "\n",
    "    # on vérifie que le nombre d'inscrits, votants et exprimes est le même à chaque ligne d'un même bureau\n",
    "    verif_unique = df.groupby(stats_index + ['bureau']).agg({\n",
    "        'inscrits': 'nunique',\n",
    "        'votants': 'nunique',\n",
    "        'exprimes': 'nunique',\n",
    "    })\n",
    "    assert (verif_unique == 1).all().all()\n",
    "\n",
    "    stats = (\n",
    "        df\n",
    "            # on a vérifié que les stats étaient les mêmes pour chaque bureau, donc on déduplique en prenant\n",
    "            # la première valeur\n",
    "            .groupby(stats_index + ['bureau']).agg({\n",
    "            'inscrits': 'first',\n",
    "            'votants': 'first',\n",
    "            'exprimes': 'first',\n",
    "        })\n",
    "            # puis on somme par commune\n",
    "            .groupby(level=stats_index).sum()\n",
    "            # puis on dépile le numéro de tour et on le met en premier index de colonne\n",
    "            .unstack(['tour']).swaplevel(0, 1, axis=1).sortlevel(axis=1)\n",
    "            # enfin, on remplace les valeurs manquantes avec des 0 (pour les élections sans second tour)\n",
    "            .fillna(0, downcast='infer')\n",
    "    )\n",
    "    stats.columns = stats.columns.set_names(['tour', 'statistique'])\n",
    "\n",
    "    # le fillna est utilisé pour les législatives : toutes les nuances ne sont pas présentes dans toutes\n",
    "    # les circos, donc il faut remplacer les valeurs manquantes par des 0, et recaster en int\n",
    "    choix = df.groupby(choix_index)['voix'].sum().unstack(['tour', 'choix']).fillna(0, downcast='infer').sortlevel(axis=1)\n",
    "\n",
    "    # on vérifie que le nombre de suffrages exprimés est égal à la somme des votes pour chaque choix, et ce pour chaque\n",
    "    # tour de l'élection\n",
    "    assert (\n",
    "       stats.swaplevel(0, 1, axis=1)['exprimes'] == choix.sum(axis=1, level=0)\n",
    "    ).all().all()\n",
    "\n",
    "    return stats, choix\n",
    "\n",
    "\n",
    "def calculer_scores(stats, choix, nonistes_gauche, nonistes_droite):\n",
    "    scores = 100 * choix[1].divide(stats[1]['inscrits'], axis=0)\n",
    "    scores['NONISTES_DROITE'] = scores[nonistes_droite].sum(axis=1)\n",
    "    scores['NONISTES_GAUCHE'] = scores[nonistes_gauche].sum(axis=1)\n",
    "    scores['NONISTES'] = scores['NONISTES_DROITE'] + scores['NONISTES_GAUCHE']\n",
    "    return scores\n",
    "\n",
    "\n",
    "use_columns = [\n",
    "    'tour', 'departement', 'commune_code', 'bureau',\n",
    "    'inscrits', 'votants', 'exprimes',\n",
    "    'choix', 'voix'\n",
    "]\n"
   ]
  },
  {
   "cell_type": "code",
   "execution_count": 42,
   "metadata": {
    "collapsed": false
   },
   "outputs": [],
   "source": [
    "# Pour 2005\n",
    "df_2005 = pd.read_excel(\n",
    "    'raw/2005.xlsx',\n",
    "#    sep=';',\n",
    "#    skiprows=0,\n",
    "#    encoding='cp1252',\n",
    "    names=['tour', 'region', 'departement', 'arrondissement', 'circo', 'canton', 'commune_code', 'ref_inscrits',\n",
    "           'commune_nom', 'bureau', 'inscrits', 'votants', 'abstentions', 'exprimes', 'choix', 'voix'],\n",
    "#    dtype={'departement': str, 'commune_code': str, 'bureau': str},\n",
    "#    usecols=use_columns\n",
    ")\n",
    "# attention aux espaces en trop dans la réponse\n",
    "df_2005 = df_2005[use_columns]"
   ]
  },
  {
   "cell_type": "code",
   "execution_count": 40,
   "metadata": {
    "collapsed": false
   },
   "outputs": [
    {
     "ename": "AssertionError",
     "evalue": "",
     "output_type": "error",
     "traceback": [
      "\u001b[0;31m---------------------------------------------------------------------------\u001b[0m",
      "\u001b[0;31mAssertionError\u001b[0m                            Traceback (most recent call last)",
      "\u001b[0;32m<ipython-input-40-eb9f5ca0dec5>\u001b[0m in \u001b[0;36m<module>\u001b[0;34m()\u001b[0m\n\u001b[1;32m      1\u001b[0m \u001b[0mdf_2005\u001b[0m\u001b[0;34m[\u001b[0m\u001b[0;34m'choix'\u001b[0m\u001b[0;34m]\u001b[0m \u001b[0;34m=\u001b[0m \u001b[0mdf_2005\u001b[0m\u001b[0;34m.\u001b[0m\u001b[0mchoix\u001b[0m\u001b[0;34m.\u001b[0m\u001b[0mstr\u001b[0m\u001b[0;34m.\u001b[0m\u001b[0mstrip\u001b[0m\u001b[0;34m(\u001b[0m\u001b[0;34m)\u001b[0m\u001b[0;34m\u001b[0m\u001b[0m\n\u001b[1;32m      2\u001b[0m \u001b[0;34m\u001b[0m\u001b[0m\n\u001b[0;32m----> 3\u001b[0;31m \u001b[0mstats_2005\u001b[0m\u001b[0;34m,\u001b[0m \u001b[0mchoix_2005\u001b[0m \u001b[0;34m=\u001b[0m \u001b[0mcalculer_totaux\u001b[0m\u001b[0;34m(\u001b[0m\u001b[0mdf_2005\u001b[0m\u001b[0;34m)\u001b[0m\u001b[0;34m\u001b[0m\u001b[0m\n\u001b[0m",
      "\u001b[0;32m<ipython-input-2-f49f1479161c>\u001b[0m in \u001b[0;36mcalculer_totaux\u001b[0;34m(df)\u001b[0m\n\u001b[1;32m      9\u001b[0m         \u001b[0;34m'exprimes'\u001b[0m\u001b[0;34m:\u001b[0m \u001b[0;34m'nunique'\u001b[0m\u001b[0;34m,\u001b[0m\u001b[0;34m\u001b[0m\u001b[0m\n\u001b[1;32m     10\u001b[0m     })\n\u001b[0;32m---> 11\u001b[0;31m     \u001b[0;32massert\u001b[0m \u001b[0;34m(\u001b[0m\u001b[0mverif_unique\u001b[0m \u001b[0;34m==\u001b[0m \u001b[0;36m1\u001b[0m\u001b[0;34m)\u001b[0m\u001b[0;34m.\u001b[0m\u001b[0mall\u001b[0m\u001b[0;34m(\u001b[0m\u001b[0;34m)\u001b[0m\u001b[0;34m.\u001b[0m\u001b[0mall\u001b[0m\u001b[0;34m(\u001b[0m\u001b[0;34m)\u001b[0m\u001b[0;34m\u001b[0m\u001b[0m\n\u001b[0m\u001b[1;32m     12\u001b[0m \u001b[0;34m\u001b[0m\u001b[0m\n\u001b[1;32m     13\u001b[0m     stats = (\n",
      "\u001b[0;31mAssertionError\u001b[0m: "
     ]
    }
   ],
   "source": [
    "df_2005['choix'] = df_2005.choix.str.strip()\n",
    "\n",
    "stats_2005, choix_2005 = calculer_totaux(df_2005)"
   ]
  },
  {
   "cell_type": "code",
   "execution_count": 10,
   "metadata": {
    "collapsed": false
   },
   "outputs": [],
   "source": [
    "\n",
    "# 2007 maintenant\n",
    "df_2007 = pd.read_csv(\n",
    "    'data/pres_2007.csv',\n",
    "    sep=';',\n",
    "    skiprows=17,\n",
    "    encoding='cp1252',\n",
    "    names=['tour', 'departement', 'commune_code', 'commune_nom', 'bureau', 'inscrits', 'votants', 'exprimes',\n",
    "           'numero_candidat', 'nom_candidat', 'prenom_candidat', 'choix', 'voix'],\n",
    "    dtype={'departement': str, 'commune_code': str, 'bureau': str},\n",
    "    usecols=use_columns\n",
    ")\n",
    "\n",
    "stats_2007, choix_2007 = calculer_totaux(df_2007)\n",
    "\n",
    "df_pres_2012 = pd.read_csv(\n",
    "    'data/pres_2012.csv',\n",
    "    sep=';',\n",
    "    encoding='cp1252',\n",
    "    names=['tour', 'departement', 'commune_code', 'commune_nom', '?', '??', 'bureau', 'inscrits', 'votants', 'exprimes',\n",
    "           'numero_candidat', 'nom_candidat', 'prenom_candidat', 'choix', 'voix'],\n",
    "    dtype={'departement': str, 'commune_code': str, 'bureau': str},\n",
    "    usecols=use_columns\n",
    ")\n",
    "stats_2012, choix_2012 = calculer_totaux(df_pres_2012)\n",
    "\n",
    "\n",
    "df_legi_2012 = pd.read_csv(\n",
    "    'data/legi_2012.csv',\n",
    "    sep=';',\n",
    "    skiprows=18,\n",
    "    names=['tour', 'departement', 'commune_code', 'commune_nom', '?', '??', 'bureau', 'inscrits', 'votants', 'exprimes',\n",
    "           'numero_candidat', 'nom_candidat', 'prenom_candidat', 'choix', 'voix'],\n",
    "    dtype={'departement': str, 'commune_code': str, 'bureau': str},\n",
    "    usecols=use_columns\n",
    ")\n",
    "stats_legi_2012, choix_legi_2012 = calculer_totaux(df_legi_2012)\n",
    "\n",
    "\n",
    "# statistiques tce\n",
    "#scores_tce = pd.DataFrame({\n",
    "#    'OUI_TCE': 100 * choix_2005[1]['OUI'] / stats_2005[1]['inscrits'],\n",
    "#    'NON_TCE': 100 * choix_2005[1]['NON'] / stats_2005[1]['inscrits']\n",
    "#})"
   ]
  },
  {
   "cell_type": "code",
   "execution_count": 11,
   "metadata": {
    "collapsed": true
   },
   "outputs": [],
   "source": [
    "\n",
    "# statistiques présidentielles 2012\n",
    "nonistes_droite_2012 = [\"LEPE\", \"DUPO\"]\n",
    "nonistes_gauche_2012 = [\"MELE\", \"ARTH\", \"POUT\"]\n",
    "scores_pres_2012 = calculer_scores(stats_2012, choix_2012,\n",
    "                                   nonistes_droite=nonistes_droite_2012, nonistes_gauche=nonistes_gauche_2012)\n"
   ]
  },
  {
   "cell_type": "code",
   "execution_count": 12,
   "metadata": {
    "collapsed": true
   },
   "outputs": [],
   "source": [
    "\n",
    "# statistiques présidentielles 2007\n",
    "nonistes_droite_2007 = [\"LEPE\", \"NIHO\", \"VILL\"]\n",
    "nonistes_gauche_2007 = [\"BUFF\", \"BESA\", \"SCHI\"]\n",
    "scores_pres_2007 = calculer_scores(stats_2007, choix_2007,\n",
    "                                   nonistes_droite=nonistes_droite_2007, nonistes_gauche=nonistes_gauche_2007)\n",
    "\n"
   ]
  },
  {
   "cell_type": "code",
   "execution_count": 13,
   "metadata": {
    "collapsed": false
   },
   "outputs": [
    {
     "ename": "NameError",
     "evalue": "name 'scores_tce' is not defined",
     "output_type": "error",
     "traceback": [
      "\u001b[0;31m---------------------------------------------------------------------------\u001b[0m",
      "\u001b[0;31mNameError\u001b[0m                                 Traceback (most recent call last)",
      "\u001b[0;32m<ipython-input-13-815218817579>\u001b[0m in \u001b[0;36m<module>\u001b[0;34m()\u001b[0m\n\u001b[1;32m     12\u001b[0m \u001b[0;34m\u001b[0m\u001b[0m\n\u001b[1;32m     13\u001b[0m df_communes = pd.concat([\n\u001b[0;32m---> 14\u001b[0;31m     \u001b[0mscores_tce\u001b[0m\u001b[0;34m,\u001b[0m\u001b[0;34m\u001b[0m\u001b[0m\n\u001b[0m\u001b[1;32m     15\u001b[0m     \u001b[0mscores_pres_2012\u001b[0m\u001b[0;34m.\u001b[0m\u001b[0mrename\u001b[0m\u001b[0;34m(\u001b[0m\u001b[0mcolumns\u001b[0m\u001b[0;34m=\u001b[0m\u001b[0;32mlambda\u001b[0m \u001b[0mc\u001b[0m\u001b[0;34m:\u001b[0m \u001b[0mc\u001b[0m \u001b[0;34m+\u001b[0m \u001b[0;34m'_PRES_2012'\u001b[0m\u001b[0;34m)\u001b[0m\u001b[0;34m,\u001b[0m\u001b[0;34m\u001b[0m\u001b[0m\n\u001b[1;32m     16\u001b[0m     \u001b[0mscores_pres_2007\u001b[0m\u001b[0;34m.\u001b[0m\u001b[0mrename\u001b[0m\u001b[0;34m(\u001b[0m\u001b[0mcolumns\u001b[0m\u001b[0;34m=\u001b[0m\u001b[0;32mlambda\u001b[0m \u001b[0mc\u001b[0m\u001b[0;34m:\u001b[0m \u001b[0mc\u001b[0m \u001b[0;34m+\u001b[0m \u001b[0;34m'_PRES_2007'\u001b[0m\u001b[0;34m)\u001b[0m\u001b[0;34m,\u001b[0m\u001b[0;34m\u001b[0m\u001b[0m\n",
      "\u001b[0;31mNameError\u001b[0m: name 'scores_tce' is not defined"
     ]
    }
   ],
   "source": [
    "\n",
    "# statistiques législatives 2012\n",
    "# qui des divers droite ? Beaucoup doivent être nonistes\n",
    "# sans doute moins le cas pour les divers gauche.\n",
    "nonistes_droite_legislatives_2012 = ['FN', 'EXD']\n",
    "nonistes_gauche_legislatives_2012 = ['FG', 'EXG']\n",
    "scores_legi_2012 = calculer_scores(stats_legi_2012, choix_legi_2012,\n",
    "                                   nonistes_droite=nonistes_droite_legislatives_2012,\n",
    "                                   nonistes_gauche=nonistes_gauche_legislatives_2012)\n",
    "\n",
    "\n",
    "\n",
    "df_communes = pd.concat([\n",
    "    scores_tce,\n",
    "    scores_pres_2012.rename(columns=lambda c: c + '_PRES_2012'),\n",
    "    scores_pres_2007.rename(columns=lambda c: c + '_PRES_2007'),\n",
    "    scores_legi_2012.rename(columns=lambda c: c + '_LEGI_2012')\n",
    "], axis=1)\n",
    "\n",
    "# a améliorer, on pourrait sortir directement du XML par exemple\n",
    "communes = {dep+commune: scores[scores.notnull()].to_dict() for (dep, commune), scores in df_communes.iterrows()}\n",
    "\n",
    "open(\"communes.json\", 'w').write(json.dumps(communes, indent=4))"
   ]
  },
  {
   "cell_type": "code",
   "execution_count": null,
   "metadata": {
    "collapsed": true
   },
   "outputs": [],
   "source": []
  }
 ],
 "metadata": {
  "kernelspec": {
   "display_name": "Python 3",
   "language": "python",
   "name": "python3"
  },
  "language_info": {
   "codemirror_mode": {
    "name": "ipython",
    "version": 3
   },
   "file_extension": ".py",
   "mimetype": "text/x-python",
   "name": "python",
   "nbconvert_exporter": "python",
   "pygments_lexer": "ipython3",
   "version": "3.6.0"
  }
 },
 "nbformat": 4,
 "nbformat_minor": 2
}
